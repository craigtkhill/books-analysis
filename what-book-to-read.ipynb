{
 "cells": [
  {
   "cell_type": "code",
   "execution_count": 2,
   "metadata": {},
   "outputs": [],
   "source": [
    "import pandas as pd\n",
    "from numpy import log"
   ]
  },
  {
   "cell_type": "code",
   "execution_count": 3,
   "metadata": {},
   "outputs": [],
   "source": [
    "with open(\"books.txt\", \"r\") as file:\n",
    "    books = file.readlines()"
   ]
  },
  {
   "cell_type": "code",
   "execution_count": 4,
   "metadata": {},
   "outputs": [],
   "source": [
    "unique_books = []\n",
    "for line in books:\n",
    "    other_book = books.index(line) + 1\n",
    "    if line == books[other_book]:\n",
    "        unique_books.append(line.strip())\n",
    "unique_books = unique_books[0::2]"
   ]
  },
  {
   "cell_type": "code",
   "execution_count": 5,
   "metadata": {},
   "outputs": [],
   "source": [
    "page_numbers = []\n",
    "for line in books:\n",
    "    if line.endswith(\"pp\\n\"):\n",
    "        page_numbers.append(int(line.replace(\"pp\",\"\").strip()))"
   ]
  },
  {
   "cell_type": "code",
   "execution_count": 6,
   "metadata": {},
   "outputs": [],
   "source": [
    "number_of_ratings = []\n",
    "for line in books:\n",
    "    if line.replace(\",\",\"\").strip().isdigit():\n",
    "        number_of_ratings.append(int(line.replace(\",\", \"\")))"
   ]
  },
  {
   "cell_type": "code",
   "execution_count": 7,
   "metadata": {},
   "outputs": [],
   "source": [
    "average_rating = []\n",
    "for line in books:\n",
    "    if len(line) > 2 and line[1] == \".\":\n",
    "        average_rating.append(float(line.strip()))"
   ]
  },
  {
   "cell_type": "code",
   "execution_count": 8,
   "metadata": {},
   "outputs": [
    {
     "data": {
      "text/plain": [
       "55"
      ]
     },
     "execution_count": 8,
     "metadata": {},
     "output_type": "execute_result"
    }
   ],
   "source": [
    "len(average_rating)"
   ]
  },
  {
   "cell_type": "code",
   "execution_count": 9,
   "metadata": {},
   "outputs": [
    {
     "data": {
      "text/plain": [
       "55"
      ]
     },
     "execution_count": 9,
     "metadata": {},
     "output_type": "execute_result"
    }
   ],
   "source": [
    "len(unique_books)"
   ]
  },
  {
   "cell_type": "code",
   "execution_count": 10,
   "metadata": {},
   "outputs": [
    {
     "data": {
      "text/plain": [
       "55"
      ]
     },
     "execution_count": 10,
     "metadata": {},
     "output_type": "execute_result"
    }
   ],
   "source": [
    "len(page_numbers)"
   ]
  },
  {
   "cell_type": "code",
   "execution_count": 11,
   "metadata": {},
   "outputs": [
    {
     "data": {
      "text/plain": [
       "55"
      ]
     },
     "execution_count": 11,
     "metadata": {},
     "output_type": "execute_result"
    }
   ],
   "source": [
    "len(number_of_ratings)"
   ]
  },
  {
   "cell_type": "code",
   "execution_count": 12,
   "metadata": {},
   "outputs": [],
   "source": [
    "with open(\"clean_books.csv\", \"w+\") as clean_books:\n",
    "    for i in range(0, len(unique_books)):\n",
    "        clean_books.write(f\"{unique_books[i]}\\t{page_numbers[i]}\\t{average_rating[i]}\\t{number_of_ratings[i]}\\n\")"
   ]
  },
  {
   "cell_type": "code",
   "execution_count": 13,
   "metadata": {},
   "outputs": [],
   "source": [
    "names=[\"book\", \"pages\", \"avg_review\", \"num_review\"]"
   ]
  },
  {
   "cell_type": "code",
   "execution_count": 14,
   "metadata": {},
   "outputs": [],
   "source": [
    "books = pd.read_csv(\"clean_books.csv\", sep=\"\\t\" , names=names)"
   ]
  },
  {
   "cell_type": "code",
   "execution_count": 15,
   "metadata": {},
   "outputs": [],
   "source": [
    "books[\"score\"] = round((books[\"avg_review\"] * log(books[\"num_review\"])) / log(books[\"pages\"]), 3)"
   ]
  },
  {
   "cell_type": "code",
   "execution_count": 16,
   "metadata": {},
   "outputs": [
    {
     "data": {
      "text/html": [
       "<div>\n",
       "<style scoped>\n",
       "    .dataframe tbody tr th:only-of-type {\n",
       "        vertical-align: middle;\n",
       "    }\n",
       "\n",
       "    .dataframe tbody tr th {\n",
       "        vertical-align: top;\n",
       "    }\n",
       "\n",
       "    .dataframe thead th {\n",
       "        text-align: right;\n",
       "    }\n",
       "</style>\n",
       "<table border=\"1\" class=\"dataframe\">\n",
       "  <thead>\n",
       "    <tr style=\"text-align: right;\">\n",
       "      <th></th>\n",
       "      <th>book</th>\n",
       "      <th>pages</th>\n",
       "      <th>avg_review</th>\n",
       "      <th>num_review</th>\n",
       "      <th>score</th>\n",
       "    </tr>\n",
       "  </thead>\n",
       "  <tbody>\n",
       "    <tr>\n",
       "      <th>0</th>\n",
       "      <td>The Hitchhiker's Guide to the Galaxy (Hitchhik...</td>\n",
       "      <td>193</td>\n",
       "      <td>4.22</td>\n",
       "      <td>1604337</td>\n",
       "      <td>11.457</td>\n",
       "    </tr>\n",
       "    <tr>\n",
       "      <th>2</th>\n",
       "      <td>The Name of the Wind (The Kingkiller Chronicle...</td>\n",
       "      <td>662</td>\n",
       "      <td>4.51</td>\n",
       "      <td>812363</td>\n",
       "      <td>9.449</td>\n",
       "    </tr>\n",
       "    <tr>\n",
       "      <th>3</th>\n",
       "      <td>On Writing: A Memoir of the Craft</td>\n",
       "      <td>320</td>\n",
       "      <td>4.31</td>\n",
       "      <td>252284</td>\n",
       "      <td>9.294</td>\n",
       "    </tr>\n",
       "    <tr>\n",
       "      <th>1</th>\n",
       "      <td>Steve Jobs</td>\n",
       "      <td>627</td>\n",
       "      <td>4.15</td>\n",
       "      <td>1090044</td>\n",
       "      <td>8.957</td>\n",
       "    </tr>\n",
       "    <tr>\n",
       "      <th>6</th>\n",
       "      <td>Factfulness: Ten Reasons We're Wrong About the...</td>\n",
       "      <td>342</td>\n",
       "      <td>4.33</td>\n",
       "      <td>149722</td>\n",
       "      <td>8.843</td>\n",
       "    </tr>\n",
       "  </tbody>\n",
       "</table>\n",
       "</div>"
      ],
      "text/plain": [
       "                                                book  pages  avg_review  \\\n",
       "0  The Hitchhiker's Guide to the Galaxy (Hitchhik...    193        4.22   \n",
       "2  The Name of the Wind (The Kingkiller Chronicle...    662        4.51   \n",
       "3                  On Writing: A Memoir of the Craft    320        4.31   \n",
       "1                                         Steve Jobs    627        4.15   \n",
       "6  Factfulness: Ten Reasons We're Wrong About the...    342        4.33   \n",
       "\n",
       "   num_review   score  \n",
       "0     1604337  11.457  \n",
       "2      812363   9.449  \n",
       "3      252284   9.294  \n",
       "1     1090044   8.957  \n",
       "6      149722   8.843  "
      ]
     },
     "execution_count": 16,
     "metadata": {},
     "output_type": "execute_result"
    }
   ],
   "source": [
    "books.head(50).sort_values(\"score\", ascending=False).head(5)"
   ]
  }
 ],
 "metadata": {
  "kernelspec": {
   "display_name": "Python 3",
   "language": "python",
   "name": "python3"
  },
  "language_info": {
   "codemirror_mode": {
    "name": "ipython",
    "version": 3
   },
   "file_extension": ".py",
   "mimetype": "text/x-python",
   "name": "python",
   "nbconvert_exporter": "python",
   "pygments_lexer": "ipython3",
   "version": "3.8.5"
  }
 },
 "nbformat": 4,
 "nbformat_minor": 4
}
